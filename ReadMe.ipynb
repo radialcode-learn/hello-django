{
 "cells": [
  {
   "cell_type": "markdown",
   "metadata": {},
   "source": [
    "<!-- The general workflow is as follows: -->\n",
    "\n",
    "## 1) Make changes to the models in your models.py file.\n",
    "## 2) Run python manage.py makemigrations to generate scripts in the migrations folder that migrate the database from its current state to the new state.\n",
    "## 3) Run python manage.py migrate to apply the scripts to the actual database."
   ]
  }
 ],
 "metadata": {
  "kernelspec": {
   "display_name": "Python 3.10.8 ('.venv': venv)",
   "language": "python",
   "name": "python3"
  },
  "language_info": {
   "name": "python",
   "version": "3.10.8"
  },
  "orig_nbformat": 4,
  "vscode": {
   "interpreter": {
    "hash": "f86ef83ea4f478beefea0f9d9203bbd6fd2e2f984b6033a3b490c7d9d4d0a78e"
   }
  }
 },
 "nbformat": 4,
 "nbformat_minor": 2
}
